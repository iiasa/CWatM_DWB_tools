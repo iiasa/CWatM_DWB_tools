{
 "cells": [
  {
   "cell_type": "markdown",
   "metadata": {},
   "source": [
    "## Creating reservoir operations"
   ]
  },
  {
   "cell_type": "markdown",
   "metadata": {},
   "source": [
    "### USER INPUT"
   ]
  },
  {
   "cell_type": "code",
   "execution_count": 1,
   "metadata": {},
   "outputs": [],
   "source": [
    "# This is the NetCDF created\n",
    "created_file = 'Outputs/reservoirOperations_Ebro.nc'\n",
    "\n",
    "# This is the NetCDF used as the base/template\n",
    "base = r'P:\\watmodel\\CWATM\\Regions\\CWatM-Ebro-1km\\input_netcdf\\routing\\lakereservoirs\\lakeresArea.nc'\n",
    "\n",
    "# Reservoir location indices\n",
    "# from 0 index, for example, (116, 41) is (117, 42) in panoply\n",
    "Reservoir_indices = [\n",
    "    (247, 353),\n",
    "    (353, 247),\n",
    "    (248, 354),\n",
    "    (354, 248),\n",
    "    (249, 355),\n",
    "    (355, 249)]\n",
    "\n",
    "# Fraction of live storage released into channel downstream\n",
    "# 366-days, for each reservoir\n",
    "Downstream_release = [\n",
    "    [0.08]*366,\n",
    "    [0.08]*366,\n",
    "    [0.08]*366,\n",
    "    [0.08]*366,\n",
    "    [0.08]*366,\n",
    "    [0.08]*366] #, #[0.01, 0.02, 0.02, ..., 0.03] #366-element array\n",
    "\n",
    "# Maximum fraction of live storage released to satisfy reservoir/command area demands\n",
    "# 366-days, for each reservoir\n",
    "Satisfying_demands = [\n",
    "    [0.08]*366,\n",
    "    [0.08]*366,\n",
    "    [0.08]*366,\n",
    "    [0.08]*366,\n",
    "    [0.08]*366,\n",
    "    [0.08]*366]"
   ]
  },
  {
   "cell_type": "markdown",
   "metadata": {},
   "source": [
    "### *SCRIPTS*"
   ]
  },
  {
   "cell_type": "code",
   "execution_count": 2,
   "metadata": {},
   "outputs": [],
   "source": [
    "import netCDF4 as nc4\n",
    "import numpy as np\n",
    "import datetime"
   ]
  },
  {
   "cell_type": "code",
   "execution_count": 3,
   "metadata": {},
   "outputs": [],
   "source": [
    "f2 = nc4.Dataset(created_file,'w', format='NETCDF4')\n",
    "nc = nc4.Dataset(base,'r')"
   ]
  },
  {
   "cell_type": "code",
   "execution_count": 4,
   "metadata": {},
   "outputs": [],
   "source": [
    "if 'x' and 'y' in nc.variables.keys():\n",
    "    xy_dimensions = True\n",
    "elif 'lon' and 'lat' in nc.variables.keys():\n",
    "    lonlat_dimensions = True\n",
    "else:\n",
    "    exit()"
   ]
  },
  {
   "cell_type": "code",
   "execution_count": 5,
   "metadata": {},
   "outputs": [
    {
     "data": {
      "text/plain": [
       "<class 'netCDF4._netCDF4.Dimension'>: name = 'time', size = 366"
      ]
     },
     "execution_count": 5,
     "metadata": {},
     "output_type": "execute_result"
    }
   ],
   "source": [
    "if xy_dimensions:\n",
    "    f2.createDimension('x', nc.variables['x'].shape[0])\n",
    "    f2.createDimension('y', nc.variables['y'].shape[0])\n",
    "elif lonlat_dimensions:\n",
    "    f2.createDimension('lon', nc.variables['lon'].shape[0])\n",
    "    f2.createDimension('lat', nc.variables['lat'].shape[0])\n",
    "    \n",
    "f2.createDimension('time', 366)"
   ]
  },
  {
   "cell_type": "code",
   "execution_count": 6,
   "metadata": {},
   "outputs": [],
   "source": [
    " time = f2.createVariable('Time', 'i4', 'time')\n",
    "if xy_dimensions:\n",
    "    longitude = f2.createVariable('X', 'f4', 'x')\n",
    "    latitude = f2.createVariable('Y', 'f4', 'y')  \n",
    "    frac_release = f2.createVariable('Downstream release', 'f4', ('time', 'y', 'x'),zlib=True,least_significant_digit=4)\n",
    "    frac_demand = f2.createVariable('Fraction of Volume', 'f4', ('time', 'y', 'x'),zlib=True,least_significant_digit=4)\n",
    "\n",
    "elif lonlat_dimensions:\n",
    "    longitude = f2.createVariable('Longitude', 'f4', 'lon')\n",
    "    latitude = f2.createVariable('Latitude', 'f4', 'lat') \n",
    "    frac_release = f2.createVariable('Downstream release', 'f4', ('time', 'lat', 'lon'),zlib=True,least_significant_digit=4)\n",
    "    frac_demand = f2.createVariable('Fraction of Volume', 'f4', ('time', 'lat', 'lon'),zlib=True,least_significant_digit=4)"
   ]
  },
  {
   "cell_type": "code",
   "execution_count": 7,
   "metadata": {},
   "outputs": [],
   "source": [
    "if xy_dimensions:\n",
    "    longitude[:] = nc.variables['x'][:] \n",
    "    latitude[:] = nc.variables['y'][:]\n",
    "\n",
    "elif lonlat_dimensions:\n",
    "    longitude[:] = nc.variables['lon'][:]\n",
    "    latitude[:] = nc.variables['lat'][:]\n",
    "    \n",
    "time[:] = range(366)[:]\n",
    "\n",
    "for i in range(len(Reservoir_indices)):\n",
    "    frac_release[:, Reservoir_indices[i][0], Reservoir_indices[i][1]] = Downstream_release[i]\n",
    "    frac_demand[:, Reservoir_indices[i][0], Reservoir_indices[i][1]] = Satisfying_demands[i]"
   ]
  },
  {
   "cell_type": "code",
   "execution_count": 8,
   "metadata": {},
   "outputs": [],
   "source": [
    "f2.close()"
   ]
  }
 ],
 "metadata": {
  "kernelspec": {
   "display_name": "Python 3 (ipykernel)",
   "language": "python",
   "name": "python3"
  },
  "language_info": {
   "codemirror_mode": {
    "name": "ipython",
    "version": 3
   },
   "file_extension": ".py",
   "mimetype": "text/x-python",
   "name": "python",
   "nbconvert_exporter": "python",
   "pygments_lexer": "ipython3",
   "version": "3.11.0"
  }
 },
 "nbformat": 4,
 "nbformat_minor": 2
}
